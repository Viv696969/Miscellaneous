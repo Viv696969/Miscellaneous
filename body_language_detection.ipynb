{
 "cells": [
  {
   "cell_type": "code",
   "execution_count": 1,
   "id": "86c3f9e6",
   "metadata": {},
   "outputs": [],
   "source": [
    "from mediapipe import solutions as mp\n",
    "import cv2 as cv\n",
    "import numpy as np"
   ]
  },
  {
   "cell_type": "code",
   "execution_count": 2,
   "id": "06f5ed48",
   "metadata": {},
   "outputs": [],
   "source": [
    "mp_drawing=mp.drawing_utils\n",
    "mp_holistic=mp.holistic"
   ]
  },
  {
   "cell_type": "code",
   "execution_count": 3,
   "id": "42969e1f",
   "metadata": {},
   "outputs": [],
   "source": [
    "holistic=mp_holistic.Holistic(min_detection_confidence=0.7)"
   ]
  },
  {
   "cell_type": "code",
   "execution_count": 15,
   "id": "565ae7aa",
   "metadata": {},
   "outputs": [],
   "source": [
    "cap=cv.VideoCapture(0)\n",
    "\n",
    "while cap.isOpened():\n",
    "    _,frame=cap.read()\n",
    "    if cv.waitKey(1)==27:\n",
    "        cap.release()\n",
    "        cv.destroyAllWindows()\n",
    "        break\n",
    "        \n",
    "    image=cv.cvtColor(frame,cv.COLOR_BGR2RGB)\n",
    "    results=holistic.process(image)\n",
    "    image=cv.cvtColor(image,cv.COLOR_RGB2BGR)\n",
    "    \n",
    "    mp_drawing.draw_landmarks(image,results.left_hand_landmarks,mp_holistic.HAND_CONNECTIONS)\n",
    "    mp_drawing.draw_landmarks(image,results.right_hand_landmarks,mp_holistic.HAND_CONNECTIONS)\n",
    "    mp_drawing.draw_landmarks(image,results.face_landmarks,mp_holistic.FACEMESH_CONTOURS,mp_drawing.DrawingSpec(color=(0,255,0),thickness=1,circle_radius=1),mp_drawing.DrawingSpec(color=(0,255,0),thickness=1,circle_radius=1))\n",
    "    mp_drawing.draw_landmarks(image,results.pose_landmarks,mp_holistic.POSE_CONNECTIONS)\n",
    "    \n",
    "    \n",
    "    cv.imshow('frame',image)"
   ]
  },
  {
   "cell_type": "code",
   "execution_count": 7,
   "id": "1bd87978",
   "metadata": {},
   "outputs": [],
   "source": [
    "cap.release()"
   ]
  },
  {
   "cell_type": "code",
   "execution_count": 20,
   "id": "bbececb9",
   "metadata": {},
   "outputs": [
    {
     "data": {
      "text/plain": [
       "0.0"
      ]
     },
     "execution_count": 20,
     "metadata": {},
     "output_type": "execute_result"
    }
   ],
   "source": [
    "results.face_landmarks.landmark[0].visibility"
   ]
  },
  {
   "cell_type": "code",
   "execution_count": null,
   "id": "67bf3cc6",
   "metadata": {},
   "outputs": [],
   "source": [
    "l=['xyz']\n",
    "for i in range(10):\n",
    "    l=l"
   ]
  },
  {
   "cell_type": "code",
   "execution_count": 23,
   "id": "ae60cf76",
   "metadata": {},
   "outputs": [
    {
     "data": {
      "text/plain": [
       "['xyz', 'xyz', 1]"
      ]
     },
     "execution_count": 23,
     "metadata": {},
     "output_type": "execute_result"
    }
   ],
   "source": [
    "l=['xyz']\n",
    "l+l+[1]"
   ]
  },
  {
   "cell_type": "code",
   "execution_count": null,
   "id": "8ae1ecec",
   "metadata": {},
   "outputs": [],
   "source": []
  }
 ],
 "metadata": {
  "kernelspec": {
   "display_name": "Python 3 (ipykernel)",
   "language": "python",
   "name": "python3"
  },
  "language_info": {
   "codemirror_mode": {
    "name": "ipython",
    "version": 3
   },
   "file_extension": ".py",
   "mimetype": "text/x-python",
   "name": "python",
   "nbconvert_exporter": "python",
   "pygments_lexer": "ipython3",
   "version": "3.10.8"
  }
 },
 "nbformat": 4,
 "nbformat_minor": 5
}
